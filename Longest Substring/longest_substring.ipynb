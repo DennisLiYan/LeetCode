{
 "cells": [
  {
   "cell_type": "markdown",
   "metadata": {
    "collapsed": true
   },
   "source": [
    "# 寻找最大不重复的子字符串\n",
    "## 题目要求\n",
    "- 给定一个字符串，找到一个最大的子字符串不含有任何的重复字符\n",
    "- 比如 输入 \"abcabcbb\" 最大非重复子串为 \"abc\"\n",
    "- \"bbbbb\" \"b\"\n",
    "- \"pwwkew\" 结果为 \"wke\" \"pwke\"是错的因为子串要求必须是连续的\n",
    "\n",
    "难度:中等\n",
    "[原题链接地址](https://leetcode.com/problems/longest-substring-without-repeating-characters/description/)"
   ]
  },
  {
   "cell_type": "markdown",
   "metadata": {},
   "source": [
    "### 思路\n",
    "- 蛮力法解决的思路是使用两层循环来便利所有可能存在的子字符串集，然后选出一个最大的字符串，缺点是时间复杂度比较慢属于(n^3)。\n",
    "#### 思考蛮力法可以优化的地方\n",
    "- 每次判断是否出现重复字符时，可以不需要使用循环来回溯，可以使用hash_table记录这样复杂度就降为了(1)\n",
    "- 这里可以优化遍历子字符串的方法，有点类似于KMP算法，可以跳跃时的遍历。如果已经取出字符串[a,b]，c字符出现a,b之间，那么下次遍历的时候可以不从a+1开始遍历，可以直接从c出现的位置后面开始跳跃式的遍历。\n"
   ]
  },
  {
   "cell_type": "code",
   "execution_count": 3,
   "metadata": {},
   "outputs": [
    {
     "name": "stdout",
     "output_type": "stream",
     "text": [
      "wke\n",
      "b\n",
      "abc\n",
      "abcdefghi\n",
      "abcdefghi\n"
     ]
    }
   ],
   "source": [
    "def longest_substring(str):\n",
    "    length = len(str)\n",
    "    start_pos = 0\n",
    "    result_interval = [0, 0]\n",
    "    while (start_pos < length):\n",
    "        old_pos = start_pos\n",
    "        hash_table = [-1] * 256\n",
    "        for ii in range(start_pos, length):\n",
    "            if (hash_table[ord(str[ii])] >= 0):\n",
    "                if ((result_interval[1] - result_interval[0]) < (ii - start_pos)):\n",
    "                    result_interval[1] = ii\n",
    "                    result_interval[0] = start_pos\n",
    "                start_pos = hash_table[ord(str[ii])] + 1\n",
    "                break\n",
    "            else:\n",
    "                hash_table[ord(str[ii])] = ii\n",
    "\n",
    "        if (old_pos == start_pos):\n",
    "            if ((result_interval[1] - result_interval[0]) < (length - start_pos)):\n",
    "                result_interval[1] = length\n",
    "                result_interval[0] = start_pos\n",
    "            break\n",
    "    return str[result_interval[0]:result_interval[1]]\n",
    "\n",
    "print (longest_substring(\"pwwkew\"))\n",
    "print (longest_substring(\"bbbbb\"))\n",
    "print (longest_substring(\"abcabcbb\"))\n",
    "print (longest_substring(\"abcdefghi\"))\n",
    "print (longest_substring(\"abcabcdefghi\"))"
   ]
  },
  {
   "cell_type": "markdown",
   "metadata": {},
   "source": [
    "#### 继续优化\n",
    "- 之前我理解有问题，觉得每次hash_table不可以重复使用，因为只是用来标记字符是否出现。但其实是可以重复利用的，里面每次记录的都是一个元素出现的位置+1.如果重复出现则使用最新的位置覆盖，这样如果出现了重复的字符每次遍历的其实位置就是重复字符出现的位置再往后+1."
   ]
  },
  {
   "cell_type": "code",
   "execution_count": 4,
   "metadata": {},
   "outputs": [
    {
     "name": "stdout",
     "output_type": "stream",
     "text": [
      "wke\n",
      "b\n",
      "abc\n",
      "abcdefghi\n",
      "abcdefghi\n"
     ]
    }
   ],
   "source": [
    "def longest_substring_1(str):\n",
    "    length = len(str)\n",
    "    result_interval = [0, -1]\n",
    "    hash_table = [0] * 256\n",
    "    ii = 0\n",
    "    jj = 0\n",
    "    while (jj < length):\n",
    "        ii = max(hash_table[ord(str[jj])], ii)\n",
    "        if ((result_interval[1] - result_interval[0]) < (jj - ii)):\n",
    "            result_interval[1] = jj\n",
    "            result_interval[0] = ii\n",
    "        hash_table[ord(str[jj])] =  jj + 1\n",
    "        jj = jj + 1\n",
    "    return str[result_interval[0]:result_interval[1] + 1]\n",
    "\n",
    "print (longest_substring_1(\"pwwkew\"))\n",
    "print (longest_substring_1(\"bbbbb\"))\n",
    "print (longest_substring_1(\"abcabcbb\"))\n",
    "print (longest_substring_1(\"abcdefghi\"))\n",
    "print (longest_substring_1(\"abcabcdefghi\"))"
   ]
  }
 ],
 "metadata": {
  "kernelspec": {
   "display_name": "Python 3",
   "language": "python",
   "name": "python3"
  },
  "language_info": {
   "codemirror_mode": {
    "name": "ipython",
    "version": 3
   },
   "file_extension": ".py",
   "mimetype": "text/x-python",
   "name": "python",
   "nbconvert_exporter": "python",
   "pygments_lexer": "ipython3",
   "version": "3.6.1"
  }
 },
 "nbformat": 4,
 "nbformat_minor": 2
}
