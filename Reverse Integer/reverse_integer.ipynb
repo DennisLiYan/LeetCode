{
 "cells": [
  {
   "cell_type": "markdown",
   "metadata": {},
   "source": [
    "# 第一道热身的题目，整数的反转\n",
    "## 题目要求\n",
    "- 要求对输入的整数进行反转\n",
    "- x=123 return 321\n",
    "- x=-123 return -321\n",
    "\n",
    "*难度*:easy"
   ]
  },
  {
   "cell_type": "markdown",
   "metadata": {},
   "source": [
    "### 思路\n",
    "\n",
    "123->321 像是把一个完整的积木拆散然后重新拼装的一个过程。\n",
    "这里的依次把123利用求余和整数拆分为3、2、1并且从新拼接为321"
   ]
  },
  {
   "cell_type": "code",
   "execution_count": 1,
   "metadata": {},
   "outputs": [
    {
     "name": "stdout",
     "output_type": "stream",
     "text": [
      "1\n",
      "987654321\n",
      "-1\n",
      "-4321\n"
     ]
    }
   ],
   "source": [
    "def reverse_digits(number):\n",
    "    flag = 1\n",
    "    if (number < 0):\n",
    "        number = -number\n",
    "        flag = -1\n",
    "\n",
    "    reverse_number = 0\n",
    "    while (number != 0):\n",
    "        digit = number % 10\n",
    "        number = (number/10)\n",
    "        reverse_number = reverse_number * 10 + digit\n",
    "\n",
    "    return reverse_number * flag;\n",
    "\n",
    "if __name__ == '__main__':\n",
    "    print (reverse_digits(1))\n",
    "    print (reverse_digits(123456789))\n",
    "    print (reverse_digits(-1))\n",
    "    print (reverse_digits(-1234))\n",
    "    pass"
   ]
  }
 ],
 "metadata": {
  "kernelspec": {
   "display_name": "Python 2",
   "language": "python",
   "name": "python2"
  },
  "language_info": {
   "codemirror_mode": {
    "name": "ipython",
    "version": 2.0
   },
   "file_extension": ".py",
   "mimetype": "text/x-python",
   "name": "python",
   "nbconvert_exporter": "python",
   "pygments_lexer": "ipython2",
   "version": "2.7.13"
  }
 },
 "nbformat": 4,
 "nbformat_minor": 0
}