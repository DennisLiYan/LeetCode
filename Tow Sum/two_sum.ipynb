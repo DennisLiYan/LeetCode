{
 "cells": [
  {
   "cell_type": "markdown",
   "metadata": {},
   "source": [
    "# 求数组中符合要求的下标\n",
    "## 题目要求\n",
    "- 给定一个数组以及一个目标值，求出数组中元素满足相加等于目标值的下标。\n",
    "- 比如数组:[3,4,5,8] 目标值:9    return:[1,2]\n",
    "- 只要找到一个满足要求的数组就ok"
   ]
  },
  {
   "cell_type": "markdown",
   "metadata": {},
   "source": [
    "### 思路1\n",
    "- 使用蛮力法穷举所有可能的组合情况找到满足要求的集合\n",
    "- 时间复杂度为 n^2\n",
    "- 空间复杂度为 1"
   ]
  },
  {
   "cell_type": "code",
   "execution_count": 2,
   "metadata": {},
   "outputs": [
    {
     "name": "stdout",
     "output_type": "stream",
     "text": [
      "[0, 1]\n",
      "[1, 3]\n"
     ]
    }
   ],
   "source": [
    "def add_two_sum1(nums, target):\n",
    "    nums_size = len(nums)\n",
    "    for ii in range(0, nums_size):\n",
    "        for jj in range(ii, nums_size):\n",
    "            if ((nums[ii] + nums[jj]) == target):\n",
    "                return [ii, jj]\n",
    "    return None\n",
    "\n",
    "print (add_two_sum1([2, 7, 11, 15], 9))\n",
    "print (add_two_sum1([11, 2, 15, 7], 9))"
   ]
  },
  {
   "cell_type": "markdown",
   "metadata": {},
   "source": [
    "### 思路2\n",
    "- 乍一看感觉能优化的空间非常少，那么怎么在遍历一次的情况下得到答案呢？\n",
    "- 如果是一次循环就能找到答案，那么我在遍历到这个元素的时候应该有判断条件是否满足情况。\n",
    "- 这个判断条件应该是综合了已经遍历过的元素。\n",
    "\n",
    "- 时间复杂度 (n^2) 空间复杂度 (n)"
   ]
  },
  {
   "cell_type": "code",
   "execution_count": 4,
   "metadata": {},
   "outputs": [
    {
     "name": "stdout",
     "output_type": "stream",
     "text": [
      "[0, 1]\n",
      "[1, 3]\n"
     ]
    }
   ],
   "source": [
    "def add_two_sum2(nums, target):\n",
    "    nums_size = len(nums)\n",
    "    num_dict = dict()\n",
    "    for ii in range(nums_size):\n",
    "        if nums[ii] in num_dict.keys():\n",
    "            return [num_dict[nums[ii]], ii]\n",
    "        else:\n",
    "            num_dict[target - nums[ii]] = ii\n",
    "    return None\n",
    "   \n",
    "print (add_two_sum2([2, 7, 11, 15], 9))\n",
    "print (add_two_sum2([11, 2, 15, 7], 9))"
   ]
  }
 ],
 "metadata": {
  "kernelspec": {
   "display_name": "Python 2",
   "language": "python",
   "name": "python2"
  },
  "language_info": {
   "codemirror_mode": {
    "name": "ipython",
    "version": 2
   },
   "file_extension": ".py",
   "mimetype": "text/x-python",
   "name": "python",
   "nbconvert_exporter": "python",
   "pygments_lexer": "ipython2",
   "version": "2.7.13"
  }
 },
 "nbformat": 4,
 "nbformat_minor": 2
}
