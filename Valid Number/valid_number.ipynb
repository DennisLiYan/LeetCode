{
 "cells": [
  {
   "cell_type": "markdown",
   "metadata": {},
   "source": [
    "# 判断是否为一个合法的数字\n",
    "## 题目要求\n",
    "- 给定一个字符串需要判断是否一个一个合法的数字。\n",
    "- 合法的数字的表达形式非常的多 比如：“1.9123123” \"  1.23 \" \"23123\"\n",
    "- \"0\" => true\n",
    "- \" 0.1 \" => true\n",
    "- \"abc\" => false\n",
    "- \"1 a\" => false\n",
    "\n",
    "难度:困难\n",
    "[原题链接地址](https://leetcode.com/problems/valid-number/description/)"
   ]
  },
  {
   "cell_type": "markdown",
   "metadata": {},
   "source": [
    "### 思路\n",
    "1. 要把所有的组合情况考虑起来非常苦难，难点在于后面遇到的字符是否合法需要依据前面的扫描结果。\n",
    "2. 每次遇到一种字符都要回看的话，逻辑非常复杂。\n",
    "3. 这个和有限状态机很相似，每次走过一个字符的时候都可以认为发生了一次状态转变。当遇到不合法的状态时则终止。"
   ]
  },
  {
   "cell_type": "markdown",
   "metadata": {},
   "source": [
    "#### 状态定义\n",
    "- 对可能存在的状态转移定义，遇到非字典中的状态则为非法。\n",
    "- 这里对题目中的状态做了简化，只考虑了部分可能的数字表示形式。比如最开始的时候只可能是数字或者空格。"
   ]
  },
  {
   "cell_type": "code",
   "execution_count": 2,
   "metadata": {
    "collapsed": true
   },
   "outputs": [],
   "source": [
    "dfa_state = [\n",
    "    {'space': 0, 'number': 1},\n",
    "    {'point': 2, 'number' : 1},\n",
    "    {'number': 2, 'space' : 3},\n",
    "    {'space' : 3}\n",
    "]"
   ]
  },
  {
   "cell_type": "code",
   "execution_count": 3,
   "metadata": {},
   "outputs": [
    {
     "name": "stdout",
     "output_type": "stream",
     "text": [
      "True\n",
      "True\n",
      "False\n",
      "False\n"
     ]
    }
   ],
   "source": [
    "def valid_number(str_to_valid):\n",
    "    current_dict = dfa_state[0]\n",
    "    key = None\n",
    "    for ii in str_to_valid:\n",
    "        if (ii >= '0' and ii <= \"9\"):\n",
    "            key = \"number\"\n",
    "        elif (ii == '.'):\n",
    "            key = 'point'\n",
    "        elif (ii == ' '):\n",
    "            key = 'space'\n",
    "        else:\n",
    "            key = 'Unknown'\n",
    "        if key in current_dict.keys():\n",
    "            current_dict = dfa_state[current_dict[key]]\n",
    "        else:\n",
    "            return False\n",
    "    if (key == None):\n",
    "        return False\n",
    "    return True\n",
    "\n",
    "print (valid_number(\"0\"))\n",
    "print (valid_number(\" 0.1 \"))\n",
    "print (valid_number(\"abc\"))\n",
    "print (valid_number(\"1 a\"))"
   ]
  }
 ],
 "metadata": {
  "kernelspec": {
   "display_name": "Python 2",
   "language": "python",
   "name": "python2"
  },
  "language_info": {
   "codemirror_mode": {
    "name": "ipython",
    "version": 2
   },
   "file_extension": ".py",
   "mimetype": "text/x-python",
   "name": "python",
   "nbconvert_exporter": "python",
   "pygments_lexer": "ipython2",
   "version": "2.7.13"
  }
 },
 "nbformat": 4,
 "nbformat_minor": 2
}
